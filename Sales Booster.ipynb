{
 "cells": [
  {
   "cell_type": "markdown",
   "metadata": {},
   "source": [
    "# Start session"
   ]
  },
  {
   "cell_type": "code",
   "execution_count": 1,
   "metadata": {},
   "outputs": [],
   "source": [
    "import activeviam as av\n",
    "import pandas as pd"
   ]
  },
  {
   "cell_type": "code",
   "execution_count": 2,
   "metadata": {},
   "outputs": [],
   "source": [
    "session = av.create_session(\"Sales Booster\")"
   ]
  },
  {
   "cell_type": "markdown",
   "metadata": {},
   "source": [
    "# Load data in the cube"
   ]
  },
  {
   "cell_type": "code",
   "execution_count": 3,
   "metadata": {},
   "outputs": [
    {
     "data": {
      "text/html": [
       "<div>\n",
       "<style scoped>\n",
       "    .dataframe tbody tr th:only-of-type {\n",
       "        vertical-align: middle;\n",
       "    }\n",
       "\n",
       "    .dataframe tbody tr th {\n",
       "        vertical-align: top;\n",
       "    }\n",
       "\n",
       "    .dataframe thead th {\n",
       "        text-align: right;\n",
       "    }\n",
       "</style>\n",
       "<table border=\"1\" class=\"dataframe\">\n",
       "  <thead>\n",
       "    <tr style=\"text-align: right;\">\n",
       "      <th></th>\n",
       "      <th>Customer</th>\n",
       "      <th>Salesperson</th>\n",
       "      <th>Continent</th>\n",
       "      <th>Country</th>\n",
       "      <th>Amount</th>\n",
       "    </tr>\n",
       "  </thead>\n",
       "  <tbody>\n",
       "    <tr>\n",
       "      <th>0</th>\n",
       "      <td>Ubisoft</td>\n",
       "      <td>Léodagan</td>\n",
       "      <td>Europe</td>\n",
       "      <td>France</td>\n",
       "      <td>100000.0</td>\n",
       "    </tr>\n",
       "    <tr>\n",
       "      <th>1</th>\n",
       "      <td>Decathlon</td>\n",
       "      <td>Lancelot</td>\n",
       "      <td>Europe</td>\n",
       "      <td>France</td>\n",
       "      <td>150000.0</td>\n",
       "    </tr>\n",
       "    <tr>\n",
       "      <th>2</th>\n",
       "      <td>Airbus</td>\n",
       "      <td>Karadoc</td>\n",
       "      <td>Europe</td>\n",
       "      <td>France</td>\n",
       "      <td>80000.0</td>\n",
       "    </tr>\n",
       "    <tr>\n",
       "      <th>3</th>\n",
       "      <td>EDF</td>\n",
       "      <td>Bohort</td>\n",
       "      <td>Europe</td>\n",
       "      <td>France</td>\n",
       "      <td>120000.0</td>\n",
       "    </tr>\n",
       "    <tr>\n",
       "      <th>4</th>\n",
       "      <td>Air France</td>\n",
       "      <td>Lancelot</td>\n",
       "      <td>Europe</td>\n",
       "      <td>France</td>\n",
       "      <td>70000.0</td>\n",
       "    </tr>\n",
       "  </tbody>\n",
       "</table>\n",
       "</div>"
      ],
      "text/plain": [
       "     Customer Salesperson Continent Country    Amount\n",
       "0     Ubisoft    Léodagan    Europe  France  100000.0\n",
       "1   Decathlon    Lancelot    Europe  France  150000.0\n",
       "2      Airbus     Karadoc    Europe  France   80000.0\n",
       "3         EDF      Bohort    Europe  France  120000.0\n",
       "4  Air France    Lancelot    Europe  France   70000.0"
      ]
     },
     "execution_count": 3,
     "metadata": {},
     "output_type": "execute_result"
    }
   ],
   "source": [
    "sales = session.read_csv(\"data/projected_sales.csv\", keys=[\"Customer\", \"Salesperson\"], store_name=\"Projected sales\")\n",
    "sales.head()"
   ]
  },
  {
   "cell_type": "code",
   "execution_count": 4,
   "metadata": {},
   "outputs": [
    {
     "data": {
      "text/html": [
       "<div>\n",
       "<style scoped>\n",
       "    .dataframe tbody tr th:only-of-type {\n",
       "        vertical-align: middle;\n",
       "    }\n",
       "\n",
       "    .dataframe tbody tr th {\n",
       "        vertical-align: top;\n",
       "    }\n",
       "\n",
       "    .dataframe thead th {\n",
       "        text-align: right;\n",
       "    }\n",
       "</style>\n",
       "<table border=\"1\" class=\"dataframe\">\n",
       "  <thead>\n",
       "    <tr style=\"text-align: right;\">\n",
       "      <th></th>\n",
       "      <th>Name</th>\n",
       "      <th>Position</th>\n",
       "      <th>Quota</th>\n",
       "      <th>Rate</th>\n",
       "      <th>Boosted Rate</th>\n",
       "    </tr>\n",
       "  </thead>\n",
       "  <tbody>\n",
       "    <tr>\n",
       "      <th>0</th>\n",
       "      <td>Lancelot</td>\n",
       "      <td>Executive</td>\n",
       "      <td>550000.0</td>\n",
       "      <td>0.025</td>\n",
       "      <td>0.030</td>\n",
       "    </tr>\n",
       "    <tr>\n",
       "      <th>1</th>\n",
       "      <td>Perceval</td>\n",
       "      <td>Associate</td>\n",
       "      <td>450000.0</td>\n",
       "      <td>0.015</td>\n",
       "      <td>0.025</td>\n",
       "    </tr>\n",
       "    <tr>\n",
       "      <th>2</th>\n",
       "      <td>Karadoc</td>\n",
       "      <td>Associate</td>\n",
       "      <td>450000.0</td>\n",
       "      <td>0.015</td>\n",
       "      <td>0.025</td>\n",
       "    </tr>\n",
       "    <tr>\n",
       "      <th>3</th>\n",
       "      <td>Léodagan</td>\n",
       "      <td>Senior Associate</td>\n",
       "      <td>450000.0</td>\n",
       "      <td>0.020</td>\n",
       "      <td>0.020</td>\n",
       "    </tr>\n",
       "    <tr>\n",
       "      <th>4</th>\n",
       "      <td>Bohort</td>\n",
       "      <td>Junior Representative</td>\n",
       "      <td>300000.0</td>\n",
       "      <td>0.010</td>\n",
       "      <td>0.020</td>\n",
       "    </tr>\n",
       "  </tbody>\n",
       "</table>\n",
       "</div>"
      ],
      "text/plain": [
       "       Name               Position     Quota   Rate  Boosted Rate\n",
       "0  Lancelot              Executive  550000.0  0.025         0.030\n",
       "1  Perceval              Associate  450000.0  0.015         0.025\n",
       "2   Karadoc              Associate  450000.0  0.015         0.025\n",
       "3  Léodagan       Senior Associate  450000.0  0.020         0.020\n",
       "4    Bohort  Junior Representative  300000.0  0.010         0.020"
      ]
     },
     "execution_count": 4,
     "metadata": {},
     "output_type": "execute_result"
    }
   ],
   "source": [
    "salespeople_df = pd.read_csv(\"data/salespeople.csv\")\n",
    "salespeople_df"
   ]
  },
  {
   "cell_type": "code",
   "execution_count": 5,
   "metadata": {},
   "outputs": [
    {
     "data": {
      "application/json": {
       "Boosted Rate": {
        "key": false,
        "nullable": false,
        "type": "double"
       },
       "Name": {
        "key": true,
        "nullable": true,
        "type": "string"
       },
       "Position": {
        "key": false,
        "nullable": true,
        "type": "string"
       },
       "Quota": {
        "key": false,
        "nullable": false,
        "type": "double"
       },
       "Rate": {
        "key": false,
        "nullable": false,
        "type": "double"
       }
      },
      "text/html": [
       "<ul>\n",
       "<li>Salespeople\n",
       "  <ul>\n",
       "  <li>Name\n",
       "    <ul>\n",
       "    <li>key : True</li>\n",
       "    <li>nullable : True</li>\n",
       "    <li>type : string</li>\n",
       "    </ul>\n",
       "  </li>\n",
       "  <li>Position\n",
       "    <ul>\n",
       "    <li>key : False</li>\n",
       "    <li>nullable : True</li>\n",
       "    <li>type : string</li>\n",
       "    </ul>\n",
       "  </li>\n",
       "  <li>Quota\n",
       "    <ul>\n",
       "    <li>key : False</li>\n",
       "    <li>nullable : False</li>\n",
       "    <li>type : double</li>\n",
       "    </ul>\n",
       "  </li>\n",
       "  <li>Rate\n",
       "    <ul>\n",
       "    <li>key : False</li>\n",
       "    <li>nullable : False</li>\n",
       "    <li>type : double</li>\n",
       "    </ul>\n",
       "  </li>\n",
       "  <li>Boosted Rate\n",
       "    <ul>\n",
       "    <li>key : False</li>\n",
       "    <li>nullable : False</li>\n",
       "    <li>type : double</li>\n",
       "    </ul>\n",
       "  </li>\n",
       "  </ul>\n",
       "</li>\n",
       "</ul>\n"
      ],
      "text/plain": [
       "Store(name='Salespeople', columns='Name, Position, Quota, Rate, Boosted Rate')"
      ]
     },
     "execution_count": 5,
     "metadata": {
      "application/json": {
       "expanded": true,
       "root": "Salespeople"
      }
     },
     "output_type": "execute_result"
    }
   ],
   "source": [
    "salespeople = session.read_pandas(salespeople_df, keys=[\"Name\"], store_name=\"Salespeople\")\n",
    "salespeople"
   ]
  },
  {
   "cell_type": "code",
   "execution_count": 6,
   "metadata": {},
   "outputs": [],
   "source": [
    "sales.join(salespeople, mapping={\"Salesperson\" : \"Name\"})"
   ]
  },
  {
   "cell_type": "code",
   "execution_count": 7,
   "metadata": {},
   "outputs": [
    {
     "data": {
      "application/json": {
       "Dimensions": {
        "Hierarchies": {
         "Continent": [
          "Continent"
         ],
         "Country": [
          "Country"
         ],
         "Customer": [
          "Customer"
         ],
         "Name": [
          "Name"
         ],
         "Position": [
          "Position"
         ],
         "Salesperson": [
          "Salesperson"
         ]
        }
       },
       "Measures": {
        "Amount.AVG": {
         "formatter": null,
         "visible": true
        },
        "Amount.SUM": {
         "formatter": null,
         "visible": true
        },
        "Boosted Rate.AVG": {
         "formatter": null,
         "visible": true
        },
        "Boosted Rate.SUM": {
         "formatter": null,
         "visible": true
        },
        "Boosted Rate.VALUE": {
         "formatter": null,
         "visible": true
        },
        "Quota.AVG": {
         "formatter": null,
         "visible": true
        },
        "Quota.SUM": {
         "formatter": null,
         "visible": true
        },
        "Quota.VALUE": {
         "formatter": null,
         "visible": true
        },
        "Rate.AVG": {
         "formatter": null,
         "visible": true
        },
        "Rate.SUM": {
         "formatter": null,
         "visible": true
        },
        "Rate.VALUE": {
         "formatter": null,
         "visible": true
        },
        "contributors.COUNT": {
         "formatter": null,
         "visible": true
        }
       }
      },
      "text/html": [
       "<ul>\n",
       "<li>Sales\n",
       "  <ul>\n",
       "  <li>Dimensions\n",
       "    <ul>\n",
       "    <li>Hierarchies\n",
       "      <ul>\n",
       "      <li>Continent\n",
       "        <ol>\n",
       "        <li>Continent</li>\n",
       "        </ol>      </li>\n",
       "      <li>Position\n",
       "        <ol>\n",
       "        <li>Position</li>\n",
       "        </ol>      </li>\n",
       "      <li>Customer\n",
       "        <ol>\n",
       "        <li>Customer</li>\n",
       "        </ol>      </li>\n",
       "      <li>Country\n",
       "        <ol>\n",
       "        <li>Country</li>\n",
       "        </ol>      </li>\n",
       "      <li>Salesperson\n",
       "        <ol>\n",
       "        <li>Salesperson</li>\n",
       "        </ol>      </li>\n",
       "      <li>Name\n",
       "        <ol>\n",
       "        <li>Name</li>\n",
       "        </ol>      </li>\n",
       "      </ul>\n",
       "    </li>\n",
       "    </ul>\n",
       "  </li>\n",
       "  <li>Measures\n",
       "    <ul>\n",
       "    <li>Rate.AVG\n",
       "      <ul>\n",
       "      <li>formatter : None</li>\n",
       "      <li>visible : True</li>\n",
       "      </ul>\n",
       "    </li>\n",
       "    <li>Boosted Rate.AVG\n",
       "      <ul>\n",
       "      <li>formatter : None</li>\n",
       "      <li>visible : True</li>\n",
       "      </ul>\n",
       "    </li>\n",
       "    <li>contributors.COUNT\n",
       "      <ul>\n",
       "      <li>formatter : None</li>\n",
       "      <li>visible : True</li>\n",
       "      </ul>\n",
       "    </li>\n",
       "    <li>Quota.SUM\n",
       "      <ul>\n",
       "      <li>formatter : None</li>\n",
       "      <li>visible : True</li>\n",
       "      </ul>\n",
       "    </li>\n",
       "    <li>Amount.SUM\n",
       "      <ul>\n",
       "      <li>formatter : None</li>\n",
       "      <li>visible : True</li>\n",
       "      </ul>\n",
       "    </li>\n",
       "    <li>Rate.VALUE\n",
       "      <ul>\n",
       "      <li>formatter : None</li>\n",
       "      <li>visible : True</li>\n",
       "      </ul>\n",
       "    </li>\n",
       "    <li>Rate.SUM\n",
       "      <ul>\n",
       "      <li>formatter : None</li>\n",
       "      <li>visible : True</li>\n",
       "      </ul>\n",
       "    </li>\n",
       "    <li>Boosted Rate.VALUE\n",
       "      <ul>\n",
       "      <li>formatter : None</li>\n",
       "      <li>visible : True</li>\n",
       "      </ul>\n",
       "    </li>\n",
       "    <li>Boosted Rate.SUM\n",
       "      <ul>\n",
       "      <li>formatter : None</li>\n",
       "      <li>visible : True</li>\n",
       "      </ul>\n",
       "    </li>\n",
       "    <li>Quota.VALUE\n",
       "      <ul>\n",
       "      <li>formatter : None</li>\n",
       "      <li>visible : True</li>\n",
       "      </ul>\n",
       "    </li>\n",
       "    <li>Amount.AVG\n",
       "      <ul>\n",
       "      <li>formatter : None</li>\n",
       "      <li>visible : True</li>\n",
       "      </ul>\n",
       "    </li>\n",
       "    <li>Quota.AVG\n",
       "      <ul>\n",
       "      <li>formatter : None</li>\n",
       "      <li>visible : True</li>\n",
       "      </ul>\n",
       "    </li>\n",
       "    </ul>\n",
       "  </li>\n",
       "  </ul>\n",
       "</li>\n",
       "</ul>\n"
      ],
      "text/plain": [
       "Cube(measures=MeasuresManager(measures=\"NamedMeasure(name = 'Rate.AVG', underlying=None),NamedMeasure(name = 'Boosted Rate.AVG', underlying=None),NamedMeasure(name = 'contributors.COUNT', underlying=None),NamedMeasure(name = 'Quota.SUM', underlying=None),NamedMeasure(name = 'Amount.SUM', underlying=None),NamedMeasure(name = 'Rate.VALUE', underlying=None),NamedMeasure(name = 'Rate.SUM', underlying=None),NamedMeasure(name = 'Boosted Rate.VALUE', underlying=None),NamedMeasure(name = 'Boosted Rate.SUM', underlying=None),NamedMeasure(name = 'Quota.VALUE', underlying=None),NamedMeasure(name = 'Amount.AVG', underlying=None),NamedMeasure(name = 'Quota.AVG', underlying=None)\"), hierarchies=HierarchiesManager(hierarchies={'Continent': Hierarchy(name='Continent', levels={'Continent': Level(name='Continent', hierarchy='Continent', comparator=None, property_name='Continent')}, dimension='Hierarchies', slicing=False), 'Position': Hierarchy(name='Position', levels={'Position': Level(name='Position', hierarchy='Position', comparator=None, property_name='Position')}, dimension='Hierarchies', slicing=False), 'Customer': Hierarchy(name='Customer', levels={'Customer': Level(name='Customer', hierarchy='Customer', comparator=None, property_name='Customer')}, dimension='Hierarchies', slicing=False), 'Country': Hierarchy(name='Country', levels={'Country': Level(name='Country', hierarchy='Country', comparator=None, property_name='Country')}, dimension='Hierarchies', slicing=False), 'Salesperson': Hierarchy(name='Salesperson', levels={'Salesperson': Level(name='Salesperson', hierarchy='Salesperson', comparator=None, property_name='Salesperson')}, dimension='Hierarchies', slicing=False), 'Name': Hierarchy(name='Name', levels={'Name': Level(name='Name', hierarchy='Name', comparator=None, property_name='Name')}, dimension='Hierarchies', slicing=False)}))"
      ]
     },
     "execution_count": 7,
     "metadata": {
      "application/json": {
       "expanded": false,
       "root": "Sales"
      }
     },
     "output_type": "execute_result"
    }
   ],
   "source": [
    "cube = session.create_cube(sales, name=\"Sales\")\n",
    "h = cube.hierarchies\n",
    "lvl = cube.levels\n",
    "m = cube.measures\n",
    "cube"
   ]
  },
  {
   "cell_type": "markdown",
   "metadata": {},
   "source": [
    "# Restructure the cube"
   ]
  },
  {
   "cell_type": "code",
   "execution_count": 8,
   "metadata": {},
   "outputs": [],
   "source": [
    "h[\"Geography\"] = [ lvl[\"Continent\"], lvl[\"Country\"] ]\n",
    "del h[\"Continent\"]\n",
    "del h[\"Country\"]"
   ]
  },
  {
   "cell_type": "code",
   "execution_count": 9,
   "metadata": {},
   "outputs": [
    {
     "data": {
      "application/json": {
       "Dimensions": {
        "Hierarchies": {
         "Customer": [
          "Customer"
         ],
         "Geography": [
          "Continent",
          "Country"
         ],
         "Name": [
          "Name"
         ],
         "Position": [
          "Position"
         ],
         "Salesperson": [
          "Salesperson"
         ]
        }
       },
       "Measures": {
        "Amount.AVG": {
         "formatter": null,
         "visible": true
        },
        "Amount.SUM": {
         "formatter": null,
         "visible": true
        },
        "Boosted Rate.AVG": {
         "formatter": null,
         "visible": true
        },
        "Boosted Rate.SUM": {
         "formatter": null,
         "visible": true
        },
        "Boosted Rate.VALUE": {
         "formatter": null,
         "visible": true
        },
        "Quota.AVG": {
         "formatter": null,
         "visible": true
        },
        "Quota.SUM": {
         "formatter": null,
         "visible": true
        },
        "Quota.VALUE": {
         "formatter": null,
         "visible": true
        },
        "Rate.AVG": {
         "formatter": null,
         "visible": true
        },
        "Rate.SUM": {
         "formatter": null,
         "visible": true
        },
        "Rate.VALUE": {
         "formatter": null,
         "visible": true
        },
        "contributors.COUNT": {
         "formatter": null,
         "visible": true
        }
       }
      },
      "text/html": [
       "<ul>\n",
       "<li>Sales\n",
       "  <ul>\n",
       "  <li>Dimensions\n",
       "    <ul>\n",
       "    <li>Hierarchies\n",
       "      <ul>\n",
       "      <li>Geography\n",
       "        <ol>\n",
       "        <li>Continent</li>\n",
       "        <li>Country</li>\n",
       "        </ol>      </li>\n",
       "      <li>Position\n",
       "        <ol>\n",
       "        <li>Position</li>\n",
       "        </ol>      </li>\n",
       "      <li>Customer\n",
       "        <ol>\n",
       "        <li>Customer</li>\n",
       "        </ol>      </li>\n",
       "      <li>Salesperson\n",
       "        <ol>\n",
       "        <li>Salesperson</li>\n",
       "        </ol>      </li>\n",
       "      <li>Name\n",
       "        <ol>\n",
       "        <li>Name</li>\n",
       "        </ol>      </li>\n",
       "      </ul>\n",
       "    </li>\n",
       "    </ul>\n",
       "  </li>\n",
       "  <li>Measures\n",
       "    <ul>\n",
       "    <li>Rate.AVG\n",
       "      <ul>\n",
       "      <li>formatter : None</li>\n",
       "      <li>visible : True</li>\n",
       "      </ul>\n",
       "    </li>\n",
       "    <li>Boosted Rate.AVG\n",
       "      <ul>\n",
       "      <li>formatter : None</li>\n",
       "      <li>visible : True</li>\n",
       "      </ul>\n",
       "    </li>\n",
       "    <li>contributors.COUNT\n",
       "      <ul>\n",
       "      <li>formatter : None</li>\n",
       "      <li>visible : True</li>\n",
       "      </ul>\n",
       "    </li>\n",
       "    <li>Quota.SUM\n",
       "      <ul>\n",
       "      <li>formatter : None</li>\n",
       "      <li>visible : True</li>\n",
       "      </ul>\n",
       "    </li>\n",
       "    <li>Amount.SUM\n",
       "      <ul>\n",
       "      <li>formatter : None</li>\n",
       "      <li>visible : True</li>\n",
       "      </ul>\n",
       "    </li>\n",
       "    <li>Rate.VALUE\n",
       "      <ul>\n",
       "      <li>formatter : None</li>\n",
       "      <li>visible : True</li>\n",
       "      </ul>\n",
       "    </li>\n",
       "    <li>Rate.SUM\n",
       "      <ul>\n",
       "      <li>formatter : None</li>\n",
       "      <li>visible : True</li>\n",
       "      </ul>\n",
       "    </li>\n",
       "    <li>Boosted Rate.VALUE\n",
       "      <ul>\n",
       "      <li>formatter : None</li>\n",
       "      <li>visible : True</li>\n",
       "      </ul>\n",
       "    </li>\n",
       "    <li>Boosted Rate.SUM\n",
       "      <ul>\n",
       "      <li>formatter : None</li>\n",
       "      <li>visible : True</li>\n",
       "      </ul>\n",
       "    </li>\n",
       "    <li>Quota.VALUE\n",
       "      <ul>\n",
       "      <li>formatter : None</li>\n",
       "      <li>visible : True</li>\n",
       "      </ul>\n",
       "    </li>\n",
       "    <li>Amount.AVG\n",
       "      <ul>\n",
       "      <li>formatter : None</li>\n",
       "      <li>visible : True</li>\n",
       "      </ul>\n",
       "    </li>\n",
       "    <li>Quota.AVG\n",
       "      <ul>\n",
       "      <li>formatter : None</li>\n",
       "      <li>visible : True</li>\n",
       "      </ul>\n",
       "    </li>\n",
       "    </ul>\n",
       "  </li>\n",
       "  </ul>\n",
       "</li>\n",
       "</ul>\n"
      ],
      "text/plain": [
       "Cube(measures=MeasuresManager(measures=\"NamedMeasure(name = 'Rate.AVG', underlying=None),NamedMeasure(name = 'Boosted Rate.AVG', underlying=None),NamedMeasure(name = 'contributors.COUNT', underlying=None),NamedMeasure(name = 'Quota.SUM', underlying=None),NamedMeasure(name = 'Amount.SUM', underlying=None),NamedMeasure(name = 'Rate.VALUE', underlying=None),NamedMeasure(name = 'Rate.SUM', underlying=None),NamedMeasure(name = 'Boosted Rate.VALUE', underlying=None),NamedMeasure(name = 'Boosted Rate.SUM', underlying=None),NamedMeasure(name = 'Quota.VALUE', underlying=None),NamedMeasure(name = 'Amount.AVG', underlying=None),NamedMeasure(name = 'Quota.AVG', underlying=None)\"), hierarchies=HierarchiesManager(hierarchies={'Geography': Hierarchy(name='Geography', levels={'Continent': Level(name='Continent', hierarchy='Geography', comparator=None, property_name='Continent'), 'Country': Level(name='Country', hierarchy='Geography', comparator=None, property_name='Country')}, dimension='Hierarchies', slicing=False), 'Position': Hierarchy(name='Position', levels={'Position': Level(name='Position', hierarchy='Position', comparator=None, property_name='Position')}, dimension='Hierarchies', slicing=False), 'Customer': Hierarchy(name='Customer', levels={'Customer': Level(name='Customer', hierarchy='Customer', comparator=None, property_name='Customer')}, dimension='Hierarchies', slicing=False), 'Salesperson': Hierarchy(name='Salesperson', levels={'Salesperson': Level(name='Salesperson', hierarchy='Salesperson', comparator=None, property_name='Salesperson')}, dimension='Hierarchies', slicing=False), 'Name': Hierarchy(name='Name', levels={'Name': Level(name='Name', hierarchy='Name', comparator=None, property_name='Name')}, dimension='Hierarchies', slicing=False)}))"
      ]
     },
     "execution_count": 9,
     "metadata": {
      "application/json": {
       "expanded": false,
       "root": "Sales"
      }
     },
     "output_type": "execute_result"
    }
   ],
   "source": [
    "cube"
   ]
  },
  {
   "cell_type": "markdown",
   "metadata": {},
   "source": [
    "# Define Metrics"
   ]
  },
  {
   "cell_type": "code",
   "execution_count": 10,
   "metadata": {},
   "outputs": [],
   "source": [
    "m[\"Amount inside quota\"] = av.min(m['Amount.SUM'], m['Quota.VALUE'])\n",
    "m['Regular commission'] = m[\"Amount inside quota\"] * m['Rate.VALUE']\n",
    "m['Amount above quota'] = av.max(m['Amount.SUM'] - m['Quota.VALUE'], 0)\n",
    "m['Boosted commission'] = m['Amount above quota'] * m[\"Boosted Rate.VALUE\"]\n",
    "m['Commission'] = av.agg.sum(m['Regular commission'] + m['Boosted commission'], on=['Salesperson'])"
   ]
  },
  {
   "cell_type": "markdown",
   "metadata": {},
   "source": [
    "# Adapt quotas and rates"
   ]
  },
  {
   "cell_type": "code",
   "execution_count": 11,
   "metadata": {},
   "outputs": [
    {
     "data": {
      "text/html": [
       "<div>\n",
       "<style scoped>\n",
       "    .dataframe tbody tr th:only-of-type {\n",
       "        vertical-align: middle;\n",
       "    }\n",
       "\n",
       "    .dataframe tbody tr th {\n",
       "        vertical-align: top;\n",
       "    }\n",
       "\n",
       "    .dataframe thead th {\n",
       "        text-align: right;\n",
       "    }\n",
       "</style>\n",
       "<table border=\"1\" class=\"dataframe\">\n",
       "  <thead>\n",
       "    <tr style=\"text-align: right;\">\n",
       "      <th></th>\n",
       "      <th>Name</th>\n",
       "      <th>Position</th>\n",
       "      <th>Quota</th>\n",
       "      <th>Rate</th>\n",
       "      <th>Boosted Rate</th>\n",
       "    </tr>\n",
       "  </thead>\n",
       "  <tbody>\n",
       "    <tr>\n",
       "      <th>0</th>\n",
       "      <td>Lancelot</td>\n",
       "      <td>Executive</td>\n",
       "      <td>550000.0</td>\n",
       "      <td>0.025</td>\n",
       "      <td>0.030</td>\n",
       "    </tr>\n",
       "    <tr>\n",
       "      <th>1</th>\n",
       "      <td>Perceval</td>\n",
       "      <td>Associate</td>\n",
       "      <td>450000.0</td>\n",
       "      <td>0.015</td>\n",
       "      <td>0.025</td>\n",
       "    </tr>\n",
       "    <tr>\n",
       "      <th>2</th>\n",
       "      <td>Karadoc</td>\n",
       "      <td>Associate</td>\n",
       "      <td>450000.0</td>\n",
       "      <td>0.015</td>\n",
       "      <td>0.025</td>\n",
       "    </tr>\n",
       "    <tr>\n",
       "      <th>3</th>\n",
       "      <td>Léodagan</td>\n",
       "      <td>Senior Associate</td>\n",
       "      <td>450000.0</td>\n",
       "      <td>0.020</td>\n",
       "      <td>0.020</td>\n",
       "    </tr>\n",
       "    <tr>\n",
       "      <th>4</th>\n",
       "      <td>Bohort</td>\n",
       "      <td>Junior Representative</td>\n",
       "      <td>300000.0</td>\n",
       "      <td>0.010</td>\n",
       "      <td>0.020</td>\n",
       "    </tr>\n",
       "  </tbody>\n",
       "</table>\n",
       "</div>"
      ],
      "text/plain": [
       "       Name               Position     Quota   Rate  Boosted Rate\n",
       "0  Lancelot              Executive  550000.0  0.025         0.030\n",
       "1  Perceval              Associate  450000.0  0.015         0.025\n",
       "2   Karadoc              Associate  450000.0  0.015         0.025\n",
       "3  Léodagan       Senior Associate  450000.0  0.020         0.020\n",
       "4    Bohort  Junior Representative  300000.0  0.010         0.020"
      ]
     },
     "execution_count": 11,
     "metadata": {},
     "output_type": "execute_result"
    }
   ],
   "source": [
    "salespeople_df"
   ]
  },
  {
   "cell_type": "code",
   "execution_count": 12,
   "metadata": {},
   "outputs": [
    {
     "data": {
      "text/html": [
       "<div>\n",
       "<style scoped>\n",
       "    .dataframe tbody tr th:only-of-type {\n",
       "        vertical-align: middle;\n",
       "    }\n",
       "\n",
       "    .dataframe tbody tr th {\n",
       "        vertical-align: top;\n",
       "    }\n",
       "\n",
       "    .dataframe thead th {\n",
       "        text-align: right;\n",
       "    }\n",
       "</style>\n",
       "<table border=\"1\" class=\"dataframe\">\n",
       "  <thead>\n",
       "    <tr style=\"text-align: right;\">\n",
       "      <th></th>\n",
       "      <th>Name</th>\n",
       "      <th>Position</th>\n",
       "      <th>Quota</th>\n",
       "      <th>Rate</th>\n",
       "      <th>Boosted Rate</th>\n",
       "    </tr>\n",
       "  </thead>\n",
       "  <tbody>\n",
       "    <tr>\n",
       "      <th>0</th>\n",
       "      <td>Lancelot</td>\n",
       "      <td>Executive</td>\n",
       "      <td>800000.0</td>\n",
       "      <td>0.0150</td>\n",
       "      <td>0.050</td>\n",
       "    </tr>\n",
       "    <tr>\n",
       "      <th>1</th>\n",
       "      <td>Perceval</td>\n",
       "      <td>Associate</td>\n",
       "      <td>450000.0</td>\n",
       "      <td>0.0235</td>\n",
       "      <td>0.025</td>\n",
       "    </tr>\n",
       "    <tr>\n",
       "      <th>2</th>\n",
       "      <td>Karadoc</td>\n",
       "      <td>Associate</td>\n",
       "      <td>450000.0</td>\n",
       "      <td>0.0235</td>\n",
       "      <td>0.025</td>\n",
       "    </tr>\n",
       "    <tr>\n",
       "      <th>3</th>\n",
       "      <td>Léodagan</td>\n",
       "      <td>Senior Associate</td>\n",
       "      <td>450000.0</td>\n",
       "      <td>0.0200</td>\n",
       "      <td>0.020</td>\n",
       "    </tr>\n",
       "    <tr>\n",
       "      <th>4</th>\n",
       "      <td>Bohort</td>\n",
       "      <td>Junior Representative</td>\n",
       "      <td>300000.0</td>\n",
       "      <td>0.0100</td>\n",
       "      <td>0.020</td>\n",
       "    </tr>\n",
       "  </tbody>\n",
       "</table>\n",
       "</div>"
      ],
      "text/plain": [
       "       Name               Position     Quota    Rate  Boosted Rate\n",
       "0  Lancelot              Executive  800000.0  0.0150         0.050\n",
       "1  Perceval              Associate  450000.0  0.0235         0.025\n",
       "2   Karadoc              Associate  450000.0  0.0235         0.025\n",
       "3  Léodagan       Senior Associate  450000.0  0.0200         0.020\n",
       "4    Bohort  Junior Representative  300000.0  0.0100         0.020"
      ]
     },
     "execution_count": 12,
     "metadata": {},
     "output_type": "execute_result"
    }
   ],
   "source": [
    "df = salespeople_df.copy(deep=True)\n",
    "df.loc[df.Name == \"Lancelot\", \"Quota\"] = df.Quota + 250000\n",
    "df.loc[df.Name == \"Lancelot\", \"Rate\"] = df.Rate - 0.01\n",
    "df.loc[df.Name == \"Lancelot\", \"Boosted Rate\"] = df[\"Boosted Rate\"] + 0.02\n",
    "df.loc[df.Position == \"Associate\", \"Rate\"] = df.Rate + 0.0085\n",
    "df"
   ]
  },
  {
   "cell_type": "code",
   "execution_count": 13,
   "metadata": {},
   "outputs": [],
   "source": [
    "salespeople.scenarios[\"Adapted\"].load_pandas(df)"
   ]
  },
  {
   "cell_type": "markdown",
   "metadata": {},
   "source": [
    "# Share"
   ]
  },
  {
   "cell_type": "code",
   "execution_count": 14,
   "metadata": {},
   "outputs": [
    {
     "data": {
      "text/html": [
       "<a class=\"pk-wrapped-url\" href=\"https://tde-40activeviam-2ecom-1337.notebooks.activeviam.com\">https://tde-40activeviam-2ecom-1337.notebooks.activeviam.com</a>"
      ],
      "text/plain": [
       "Url(_Url__url='https://tde-40activeviam-2ecom-1337.notebooks.activeviam.com')"
      ]
     },
     "execution_count": 14,
     "metadata": {},
     "output_type": "execute_result"
    }
   ],
   "source": [
    "session.url"
   ]
  },
  {
   "cell_type": "code",
   "execution_count": null,
   "metadata": {},
   "outputs": [],
   "source": []
  }
 ],
 "metadata": {
  "kernelspec": {
   "display_name": "Python 3",
   "language": "python",
   "name": "python3"
  },
  "language_info": {
   "codemirror_mode": {
    "name": "ipython",
    "version": 3
   },
   "file_extension": ".py",
   "mimetype": "text/x-python",
   "name": "python",
   "nbconvert_exporter": "python",
   "pygments_lexer": "ipython3",
   "version": "3.7.3"
  }
 },
 "nbformat": 4,
 "nbformat_minor": 4
}
